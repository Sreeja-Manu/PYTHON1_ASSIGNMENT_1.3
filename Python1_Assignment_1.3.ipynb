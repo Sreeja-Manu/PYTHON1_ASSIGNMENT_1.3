{
 "cells": [
  {
   "cell_type": "markdown",
   "metadata": {},
   "source": [
    "### Program to accept user's first and last name and print in reverse order with a space between first and lastname"
   ]
  },
  {
   "cell_type": "code",
   "execution_count": 1,
   "metadata": {},
   "outputs": [
    {
     "name": "stdout",
     "output_type": "stream",
     "text": [
      "Please enter your First name: ABHINANDAN\n",
      "Please enter your Lastname: VARTHAMAN\n",
      "Your Name is: ABHINANDAN VARTHAMAN\n",
      "Your name in reverse is: NAMAHTRAV NADNANIHBA\n"
     ]
    }
   ],
   "source": [
    "first_name= input(\"Please enter your First name: \")\n",
    "surname=input(\"Please enter your Lastname: \")\n",
    "name= first_name+\" \"+surname\n",
    "rev_name=name[::-1]\n",
    "print(\"Your Name is: \"+name)\n",
    "print(\"Your name in reverse is: \"+rev_name)"
   ]
  },
  {
   "cell_type": "code",
   "execution_count": null,
   "metadata": {},
   "outputs": [],
   "source": []
  }
 ],
 "metadata": {
  "kernelspec": {
   "display_name": "Python 3",
   "language": "python",
   "name": "python3"
  },
  "language_info": {
   "codemirror_mode": {
    "name": "ipython",
    "version": 3
   },
   "file_extension": ".py",
   "mimetype": "text/x-python",
   "name": "python",
   "nbconvert_exporter": "python",
   "pygments_lexer": "ipython3",
   "version": "3.7.0"
  }
 },
 "nbformat": 4,
 "nbformat_minor": 2
}
